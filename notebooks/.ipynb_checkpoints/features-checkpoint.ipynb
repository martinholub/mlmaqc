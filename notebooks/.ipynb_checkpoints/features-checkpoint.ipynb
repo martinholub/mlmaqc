{
 "cells": [
  {
   "cell_type": "markdown",
   "metadata": {
    "toc": true
   },
   "source": [
    "<h1>Table of Contents<span class=\"tocSkip\"></span></h1>\n",
    "<div class=\"toc\"><ul class=\"toc-item\"><li><span><a href=\"#DictVectorizer\" data-toc-modified-id=\"DictVectorizer-1\"><span class=\"toc-item-num\">1&nbsp;&nbsp;</span>DictVectorizer</a></span><ul class=\"toc-item\"><li><span><a href=\"#TakeAway\" data-toc-modified-id=\"TakeAway-1.1\"><span class=\"toc-item-num\">1.1&nbsp;&nbsp;</span>TakeAway</a></span></li></ul></li><li><span><a href=\"#Manual-unrolling\" data-toc-modified-id=\"Manual-unrolling-2\"><span class=\"toc-item-num\">2&nbsp;&nbsp;</span>Manual unrolling</a></span></li><li><span><a href=\"#Dimensionality-reduction\" data-toc-modified-id=\"Dimensionality-reduction-3\"><span class=\"toc-item-num\">3&nbsp;&nbsp;</span>Dimensionality reduction</a></span><ul class=\"toc-item\"><li><span><a href=\"#&quot;Research&quot;\" data-toc-modified-id=\"&quot;Research&quot;-3.1\"><span class=\"toc-item-num\">3.1&nbsp;&nbsp;</span>\"Research\"</a></span></li></ul></li></ul></div>"
   ]
  },
  {
   "cell_type": "markdown",
   "metadata": {},
   "source": [
    "# Introduction\n",
    "At this stage, I do have a way how to pull out information from couple of plotting functions. For starter, I consider only such functions that are common to all platforms. \n",
    "\n",
    "Currently, the problem I am facing is how to represent the per-sample-per-plot data (that comes as a named list, akin to dictionary) as some set of per-sample features.\n",
    "\n",
    "## DictVectorizer\n",
    "The most promising option seems to be `DictVecotrizer` from `sklearn`. I would use it something like this:"
   ]
  },
  {
   "cell_type": "code",
   "execution_count": 41,
   "metadata": {},
   "outputs": [],
   "source": [
    "ma_data = {\"Sample1\": {\"rle_raw\": {\"stats\": [1, 2, 56, 78, 96],\n",
    "                                  \"conf\": [5, 8],\n",
    "                                  \"out\": [1],\n",
    "                                  \"nout\": [1]},\n",
    "                       \"rle_norm\": {\"stats\": [5, 7, 9, 12, 16],\n",
    "                                  \"conf\": [7, 10],\n",
    "                                  \"out\": [1, 15, 26, 78],\n",
    "                                  \"nout\": [4]},\n",
    "                       \"cor\": [5, 4, 7]},\n",
    "           \"Sample2\": {\"rle_raw\": {\"stats\": [6, 7, 8, 9, 55],\n",
    "                                  \"conf\": [3, 10],\n",
    "                                  \"out\": [15,25,17],\n",
    "                                  \"nout\": [3]},\n",
    "                       \"rle_norm\": {\"stats\": [15, 17, 19, 112, 116],\n",
    "                                  \"conf\": [13, 26],\n",
    "                                  \"out\": [11, 35, 126, 8, 15],\n",
    "                                  \"nout\": [5]},\n",
    "                       \"cor\": [6, 12, 8]}}"
   ]
  },
  {
   "cell_type": "code",
   "execution_count": 53,
   "metadata": {},
   "outputs": [],
   "source": [
    "ma_data2 = []\n",
    "for i, (k, v)  in enumerate(ma_data.items()):\n",
    "    ma_data2.append({k: []})\n",
    "    for vv in v.values():\n",
    "        val = vv if not isinstance(vv, (dict,)) else list(chain.from_iterable(vv.values()))\n",
    "        ma_data2[i][k].extend(val)"
   ]
  },
  {
   "cell_type": "code",
   "execution_count": 55,
   "metadata": {
    "collapsed": true
   },
   "outputs": [
    {
     "ename": "ValueError",
     "evalue": "setting an array element with a sequence.",
     "output_type": "error",
     "traceback": [
      "\u001b[0;31m---------------------------------------------------------------------------\u001b[0m",
      "\u001b[0;31mValueError\u001b[0m                                Traceback (most recent call last)",
      "\u001b[0;32m<ipython-input-55-67b591337979>\u001b[0m in \u001b[0;36m<module>\u001b[0;34m()\u001b[0m\n\u001b[1;32m      1\u001b[0m \u001b[0;32mfrom\u001b[0m \u001b[0msklearn\u001b[0m\u001b[0;34m.\u001b[0m\u001b[0mfeature_extraction\u001b[0m \u001b[0;32mimport\u001b[0m \u001b[0mDictVectorizer\u001b[0m\u001b[0;34m\u001b[0m\u001b[0m\n\u001b[1;32m      2\u001b[0m \u001b[0mv\u001b[0m \u001b[0;34m=\u001b[0m \u001b[0mDictVectorizer\u001b[0m\u001b[0;34m(\u001b[0m\u001b[0;34m)\u001b[0m\u001b[0;34m\u001b[0m\u001b[0m\n\u001b[0;32m----> 3\u001b[0;31m \u001b[0mv\u001b[0m\u001b[0;34m.\u001b[0m\u001b[0mfit_transform\u001b[0m\u001b[0;34m(\u001b[0m\u001b[0mma_data2\u001b[0m\u001b[0;34m)\u001b[0m\u001b[0;34m.\u001b[0m\u001b[0mtoarray\u001b[0m\u001b[0;34m(\u001b[0m\u001b[0;34m)\u001b[0m\u001b[0;34m\u001b[0m\u001b[0m\n\u001b[0m\u001b[1;32m      4\u001b[0m \u001b[0mv\u001b[0m\u001b[0;34m.\u001b[0m\u001b[0mget_feature_names\u001b[0m\u001b[0;34m(\u001b[0m\u001b[0;34m)\u001b[0m\u001b[0;34m\u001b[0m\u001b[0m\n",
      "\u001b[0;32m~/miniconda3/envs/dl-bio/lib/python3.6/site-packages/sklearn/feature_extraction/dict_vectorizer.py\u001b[0m in \u001b[0;36mfit_transform\u001b[0;34m(self, X, y)\u001b[0m\n\u001b[1;32m    228\u001b[0m             \u001b[0mFeature\u001b[0m \u001b[0mvectors\u001b[0m\u001b[0;34m;\u001b[0m \u001b[0malways\u001b[0m \u001b[0;36m2\u001b[0m\u001b[0;34m-\u001b[0m\u001b[0md\u001b[0m\u001b[0;34m.\u001b[0m\u001b[0;34m\u001b[0m\u001b[0m\n\u001b[1;32m    229\u001b[0m         \"\"\"\n\u001b[0;32m--> 230\u001b[0;31m         \u001b[0;32mreturn\u001b[0m \u001b[0mself\u001b[0m\u001b[0;34m.\u001b[0m\u001b[0m_transform\u001b[0m\u001b[0;34m(\u001b[0m\u001b[0mX\u001b[0m\u001b[0;34m,\u001b[0m \u001b[0mfitting\u001b[0m\u001b[0;34m=\u001b[0m\u001b[0;32mTrue\u001b[0m\u001b[0;34m)\u001b[0m\u001b[0;34m\u001b[0m\u001b[0m\n\u001b[0m\u001b[1;32m    231\u001b[0m \u001b[0;34m\u001b[0m\u001b[0m\n\u001b[1;32m    232\u001b[0m     \u001b[0;32mdef\u001b[0m \u001b[0minverse_transform\u001b[0m\u001b[0;34m(\u001b[0m\u001b[0mself\u001b[0m\u001b[0;34m,\u001b[0m \u001b[0mX\u001b[0m\u001b[0;34m,\u001b[0m \u001b[0mdict_type\u001b[0m\u001b[0;34m=\u001b[0m\u001b[0mdict\u001b[0m\u001b[0;34m)\u001b[0m\u001b[0;34m:\u001b[0m\u001b[0;34m\u001b[0m\u001b[0m\n",
      "\u001b[0;32m~/miniconda3/envs/dl-bio/lib/python3.6/site-packages/sklearn/feature_extraction/dict_vectorizer.py\u001b[0m in \u001b[0;36m_transform\u001b[0;34m(self, X, fitting)\u001b[0m\n\u001b[1;32m    188\u001b[0m \u001b[0;34m\u001b[0m\u001b[0m\n\u001b[1;32m    189\u001b[0m         result_matrix = sp.csr_matrix((values, indices, indptr),\n\u001b[0;32m--> 190\u001b[0;31m                                       shape=shape, dtype=dtype)\n\u001b[0m\u001b[1;32m    191\u001b[0m \u001b[0;34m\u001b[0m\u001b[0m\n\u001b[1;32m    192\u001b[0m         \u001b[0;31m# Sort everything if asked\u001b[0m\u001b[0;34m\u001b[0m\u001b[0;34m\u001b[0m\u001b[0m\n",
      "\u001b[0;32m~/miniconda3/envs/dl-bio/lib/python3.6/site-packages/scipy/sparse/compressed.py\u001b[0m in \u001b[0;36m__init__\u001b[0;34m(self, arg1, shape, dtype, copy)\u001b[0m\n\u001b[1;32m     64\u001b[0m                     \u001b[0mself\u001b[0m\u001b[0;34m.\u001b[0m\u001b[0mindices\u001b[0m \u001b[0;34m=\u001b[0m \u001b[0mnp\u001b[0m\u001b[0;34m.\u001b[0m\u001b[0marray\u001b[0m\u001b[0;34m(\u001b[0m\u001b[0mindices\u001b[0m\u001b[0;34m,\u001b[0m \u001b[0mcopy\u001b[0m\u001b[0;34m=\u001b[0m\u001b[0mcopy\u001b[0m\u001b[0;34m,\u001b[0m \u001b[0mdtype\u001b[0m\u001b[0;34m=\u001b[0m\u001b[0midx_dtype\u001b[0m\u001b[0;34m)\u001b[0m\u001b[0;34m\u001b[0m\u001b[0m\n\u001b[1;32m     65\u001b[0m                     \u001b[0mself\u001b[0m\u001b[0;34m.\u001b[0m\u001b[0mindptr\u001b[0m \u001b[0;34m=\u001b[0m \u001b[0mnp\u001b[0m\u001b[0;34m.\u001b[0m\u001b[0marray\u001b[0m\u001b[0;34m(\u001b[0m\u001b[0mindptr\u001b[0m\u001b[0;34m,\u001b[0m \u001b[0mcopy\u001b[0m\u001b[0;34m=\u001b[0m\u001b[0mcopy\u001b[0m\u001b[0;34m,\u001b[0m \u001b[0mdtype\u001b[0m\u001b[0;34m=\u001b[0m\u001b[0midx_dtype\u001b[0m\u001b[0;34m)\u001b[0m\u001b[0;34m\u001b[0m\u001b[0m\n\u001b[0;32m---> 66\u001b[0;31m                     \u001b[0mself\u001b[0m\u001b[0;34m.\u001b[0m\u001b[0mdata\u001b[0m \u001b[0;34m=\u001b[0m \u001b[0mnp\u001b[0m\u001b[0;34m.\u001b[0m\u001b[0marray\u001b[0m\u001b[0;34m(\u001b[0m\u001b[0mdata\u001b[0m\u001b[0;34m,\u001b[0m \u001b[0mcopy\u001b[0m\u001b[0;34m=\u001b[0m\u001b[0mcopy\u001b[0m\u001b[0;34m,\u001b[0m \u001b[0mdtype\u001b[0m\u001b[0;34m=\u001b[0m\u001b[0mdtype\u001b[0m\u001b[0;34m)\u001b[0m\u001b[0;34m\u001b[0m\u001b[0m\n\u001b[0m\u001b[1;32m     67\u001b[0m                 \u001b[0;32melse\u001b[0m\u001b[0;34m:\u001b[0m\u001b[0;34m\u001b[0m\u001b[0m\n\u001b[1;32m     68\u001b[0m                     raise ValueError(\"unrecognized %s_matrix constructor usage\" %\n",
      "\u001b[0;31mValueError\u001b[0m: setting an array element with a sequence."
     ]
    }
   ],
   "source": [
    "from sklearn.feature_extraction import DictVectorizer\n",
    "v = DictVectorizer()\n",
    "v.fit_transform(ma_data2).toarray()\n",
    "v.get_feature_names()"
   ]
  },
  {
   "cell_type": "code",
   "execution_count": 57,
   "metadata": {},
   "outputs": [],
   "source": [
    "ma_data = [{\"name\": \"Sample1\", \n",
    "            \"data\": {\"rle_raw\": {\"stats\": [1, 2, 56, 78, 96],\n",
    "                                  \"conf\": [5, 8],\n",
    "                                  \"out\": [1],\n",
    "                                  \"nout\": [1]},\n",
    "                       \"rle_norm\": {\"stats\": [5, 7, 9, 12, 16],\n",
    "                                  \"conf\": [7, 10],\n",
    "                                  \"out\": [1, 15, 26, 78],\n",
    "                                  \"nout\": [4]},\n",
    "                       \"cor\": [5, 4, 7]}},\n",
    "           {\"name\": \"Sample2\",\n",
    "            \"data\": {\"rle_raw\": {\"stats\": [6, 7, 8, 9, 55],\n",
    "                                  \"conf\": [3, 10],\n",
    "                                  \"out\": [15,25,17],\n",
    "                                  \"nout\": [3]},\n",
    "                       \"rle_norm\": {\"stats\": [15, 17, 19, 112, 116],\n",
    "                                  \"conf\": [13, 26],\n",
    "                                  \"out\": [11, 35, 126, 8, 15],\n",
    "                                  \"nout\": [5]},\n",
    "                       \"cor\": [6, 12, 8]}}]"
   ]
  },
  {
   "cell_type": "code",
   "execution_count": 61,
   "metadata": {},
   "outputs": [
    {
     "data": {
      "text/plain": [
       "[{'name': 'Sample1',\n",
       "  'data': {'rle_raw': {'stats': [1, 2, 56, 78, 96],\n",
       "    'conf': [5, 8],\n",
       "    'out': [1],\n",
       "    'nout': [1]},\n",
       "   'rle_norm': {'stats': [5, 7, 9, 12, 16],\n",
       "    'conf': [7, 10],\n",
       "    'out': [1, 15, 26, 78],\n",
       "    'nout': [4]},\n",
       "   'cor': [5, 4, 7]}},\n",
       " {'name': 'Sample2',\n",
       "  'data': {'rle_raw': {'stats': [6, 7, 8, 9, 55],\n",
       "    'conf': [3, 10],\n",
       "    'out': [15, 25, 17],\n",
       "    'nout': [3]},\n",
       "   'rle_norm': {'stats': [15, 17, 19, 112, 116],\n",
       "    'conf': [13, 26],\n",
       "    'out': [11, 35, 126, 8, 15],\n",
       "    'nout': [5]},\n",
       "   'cor': [6, 12, 8]}}]"
      ]
     },
     "execution_count": 61,
     "metadata": {},
     "output_type": "execute_result"
    }
   ],
   "source": [
    "ma_data"
   ]
  },
  {
   "cell_type": "code",
   "execution_count": 68,
   "metadata": {},
   "outputs": [
    {
     "data": {
      "text/plain": [
       "dict_items([('rle_raw', {'stats': [6, 7, 8, 9, 55], 'conf': [3, 10], 'out': [15, 25, 17], 'nout': [3]}), ('rle_norm', {'stats': [15, 17, 19, 112, 116], 'conf': [13, 26], 'out': [11, 35, 126, 8, 15], 'nout': [5]}), ('cor', [6, 12, 8])])"
      ]
     },
     "execution_count": 68,
     "metadata": {},
     "output_type": "execute_result"
    }
   ],
   "source": [
    "ma_data[1][\"data\"].items()"
   ]
  },
  {
   "cell_type": "code",
   "execution_count": 76,
   "metadata": {},
   "outputs": [],
   "source": [
    "ma_data2 = []\n",
    "for i, l in enumerate(ma_data):\n",
    "    res_dict = {}\n",
    "    res_dict[\"name\"] = l[\"name\"]\n",
    "    res_dict[\"data\"] = []\n",
    "    for (k, v)  in (l[\"data\"].items()):\n",
    "        if isinstance(v, (dict, )):\n",
    "                val = list(chain.from_iterable(v.values()))\n",
    "                res_dict[\"data\"].extend(val)\n",
    "        else:\n",
    "            res_dict[\"data\"].extend(v)\n",
    "    ma_data2.append(res_dict)"
   ]
  },
  {
   "cell_type": "code",
   "execution_count": 77,
   "metadata": {
    "collapsed": true
   },
   "outputs": [
    {
     "data": {
      "text/plain": [
       "[{'name': 'Sample1',\n",
       "  'data': [1,\n",
       "   2,\n",
       "   56,\n",
       "   78,\n",
       "   96,\n",
       "   5,\n",
       "   8,\n",
       "   1,\n",
       "   1,\n",
       "   5,\n",
       "   7,\n",
       "   9,\n",
       "   12,\n",
       "   16,\n",
       "   7,\n",
       "   10,\n",
       "   1,\n",
       "   15,\n",
       "   26,\n",
       "   78,\n",
       "   4,\n",
       "   5,\n",
       "   4,\n",
       "   7]},\n",
       " {'name': 'Sample2',\n",
       "  'data': [6,\n",
       "   7,\n",
       "   8,\n",
       "   9,\n",
       "   55,\n",
       "   3,\n",
       "   10,\n",
       "   15,\n",
       "   25,\n",
       "   17,\n",
       "   3,\n",
       "   15,\n",
       "   17,\n",
       "   19,\n",
       "   112,\n",
       "   116,\n",
       "   13,\n",
       "   26,\n",
       "   11,\n",
       "   35,\n",
       "   126,\n",
       "   8,\n",
       "   15,\n",
       "   5,\n",
       "   6,\n",
       "   12,\n",
       "   8]}]"
      ]
     },
     "execution_count": 77,
     "metadata": {},
     "output_type": "execute_result"
    }
   ],
   "source": [
    "ma_data2"
   ]
  },
  {
   "cell_type": "code",
   "execution_count": 78,
   "metadata": {
    "collapsed": true
   },
   "outputs": [
    {
     "ename": "ValueError",
     "evalue": "setting an array element with a sequence.",
     "output_type": "error",
     "traceback": [
      "\u001b[0;31m---------------------------------------------------------------------------\u001b[0m",
      "\u001b[0;31mValueError\u001b[0m                                Traceback (most recent call last)",
      "\u001b[0;32m<ipython-input-78-67b591337979>\u001b[0m in \u001b[0;36m<module>\u001b[0;34m()\u001b[0m\n\u001b[1;32m      1\u001b[0m \u001b[0;32mfrom\u001b[0m \u001b[0msklearn\u001b[0m\u001b[0;34m.\u001b[0m\u001b[0mfeature_extraction\u001b[0m \u001b[0;32mimport\u001b[0m \u001b[0mDictVectorizer\u001b[0m\u001b[0;34m\u001b[0m\u001b[0m\n\u001b[1;32m      2\u001b[0m \u001b[0mv\u001b[0m \u001b[0;34m=\u001b[0m \u001b[0mDictVectorizer\u001b[0m\u001b[0;34m(\u001b[0m\u001b[0;34m)\u001b[0m\u001b[0;34m\u001b[0m\u001b[0m\n\u001b[0;32m----> 3\u001b[0;31m \u001b[0mv\u001b[0m\u001b[0;34m.\u001b[0m\u001b[0mfit_transform\u001b[0m\u001b[0;34m(\u001b[0m\u001b[0mma_data2\u001b[0m\u001b[0;34m)\u001b[0m\u001b[0;34m.\u001b[0m\u001b[0mtoarray\u001b[0m\u001b[0;34m(\u001b[0m\u001b[0;34m)\u001b[0m\u001b[0;34m\u001b[0m\u001b[0m\n\u001b[0m\u001b[1;32m      4\u001b[0m \u001b[0mv\u001b[0m\u001b[0;34m.\u001b[0m\u001b[0mget_feature_names\u001b[0m\u001b[0;34m(\u001b[0m\u001b[0;34m)\u001b[0m\u001b[0;34m\u001b[0m\u001b[0m\n",
      "\u001b[0;32m~/miniconda3/envs/dl-bio/lib/python3.6/site-packages/sklearn/feature_extraction/dict_vectorizer.py\u001b[0m in \u001b[0;36mfit_transform\u001b[0;34m(self, X, y)\u001b[0m\n\u001b[1;32m    228\u001b[0m             \u001b[0mFeature\u001b[0m \u001b[0mvectors\u001b[0m\u001b[0;34m;\u001b[0m \u001b[0malways\u001b[0m \u001b[0;36m2\u001b[0m\u001b[0;34m-\u001b[0m\u001b[0md\u001b[0m\u001b[0;34m.\u001b[0m\u001b[0;34m\u001b[0m\u001b[0m\n\u001b[1;32m    229\u001b[0m         \"\"\"\n\u001b[0;32m--> 230\u001b[0;31m         \u001b[0;32mreturn\u001b[0m \u001b[0mself\u001b[0m\u001b[0;34m.\u001b[0m\u001b[0m_transform\u001b[0m\u001b[0;34m(\u001b[0m\u001b[0mX\u001b[0m\u001b[0;34m,\u001b[0m \u001b[0mfitting\u001b[0m\u001b[0;34m=\u001b[0m\u001b[0;32mTrue\u001b[0m\u001b[0;34m)\u001b[0m\u001b[0;34m\u001b[0m\u001b[0m\n\u001b[0m\u001b[1;32m    231\u001b[0m \u001b[0;34m\u001b[0m\u001b[0m\n\u001b[1;32m    232\u001b[0m     \u001b[0;32mdef\u001b[0m \u001b[0minverse_transform\u001b[0m\u001b[0;34m(\u001b[0m\u001b[0mself\u001b[0m\u001b[0;34m,\u001b[0m \u001b[0mX\u001b[0m\u001b[0;34m,\u001b[0m \u001b[0mdict_type\u001b[0m\u001b[0;34m=\u001b[0m\u001b[0mdict\u001b[0m\u001b[0;34m)\u001b[0m\u001b[0;34m:\u001b[0m\u001b[0;34m\u001b[0m\u001b[0m\n",
      "\u001b[0;32m~/miniconda3/envs/dl-bio/lib/python3.6/site-packages/sklearn/feature_extraction/dict_vectorizer.py\u001b[0m in \u001b[0;36m_transform\u001b[0;34m(self, X, fitting)\u001b[0m\n\u001b[1;32m    188\u001b[0m \u001b[0;34m\u001b[0m\u001b[0m\n\u001b[1;32m    189\u001b[0m         result_matrix = sp.csr_matrix((values, indices, indptr),\n\u001b[0;32m--> 190\u001b[0;31m                                       shape=shape, dtype=dtype)\n\u001b[0m\u001b[1;32m    191\u001b[0m \u001b[0;34m\u001b[0m\u001b[0m\n\u001b[1;32m    192\u001b[0m         \u001b[0;31m# Sort everything if asked\u001b[0m\u001b[0;34m\u001b[0m\u001b[0;34m\u001b[0m\u001b[0m\n",
      "\u001b[0;32m~/miniconda3/envs/dl-bio/lib/python3.6/site-packages/scipy/sparse/compressed.py\u001b[0m in \u001b[0;36m__init__\u001b[0;34m(self, arg1, shape, dtype, copy)\u001b[0m\n\u001b[1;32m     64\u001b[0m                     \u001b[0mself\u001b[0m\u001b[0;34m.\u001b[0m\u001b[0mindices\u001b[0m \u001b[0;34m=\u001b[0m \u001b[0mnp\u001b[0m\u001b[0;34m.\u001b[0m\u001b[0marray\u001b[0m\u001b[0;34m(\u001b[0m\u001b[0mindices\u001b[0m\u001b[0;34m,\u001b[0m \u001b[0mcopy\u001b[0m\u001b[0;34m=\u001b[0m\u001b[0mcopy\u001b[0m\u001b[0;34m,\u001b[0m \u001b[0mdtype\u001b[0m\u001b[0;34m=\u001b[0m\u001b[0midx_dtype\u001b[0m\u001b[0;34m)\u001b[0m\u001b[0;34m\u001b[0m\u001b[0m\n\u001b[1;32m     65\u001b[0m                     \u001b[0mself\u001b[0m\u001b[0;34m.\u001b[0m\u001b[0mindptr\u001b[0m \u001b[0;34m=\u001b[0m \u001b[0mnp\u001b[0m\u001b[0;34m.\u001b[0m\u001b[0marray\u001b[0m\u001b[0;34m(\u001b[0m\u001b[0mindptr\u001b[0m\u001b[0;34m,\u001b[0m \u001b[0mcopy\u001b[0m\u001b[0;34m=\u001b[0m\u001b[0mcopy\u001b[0m\u001b[0;34m,\u001b[0m \u001b[0mdtype\u001b[0m\u001b[0;34m=\u001b[0m\u001b[0midx_dtype\u001b[0m\u001b[0;34m)\u001b[0m\u001b[0;34m\u001b[0m\u001b[0m\n\u001b[0;32m---> 66\u001b[0;31m                     \u001b[0mself\u001b[0m\u001b[0;34m.\u001b[0m\u001b[0mdata\u001b[0m \u001b[0;34m=\u001b[0m \u001b[0mnp\u001b[0m\u001b[0;34m.\u001b[0m\u001b[0marray\u001b[0m\u001b[0;34m(\u001b[0m\u001b[0mdata\u001b[0m\u001b[0;34m,\u001b[0m \u001b[0mcopy\u001b[0m\u001b[0;34m=\u001b[0m\u001b[0mcopy\u001b[0m\u001b[0;34m,\u001b[0m \u001b[0mdtype\u001b[0m\u001b[0;34m=\u001b[0m\u001b[0mdtype\u001b[0m\u001b[0;34m)\u001b[0m\u001b[0;34m\u001b[0m\u001b[0m\n\u001b[0m\u001b[1;32m     67\u001b[0m                 \u001b[0;32melse\u001b[0m\u001b[0;34m:\u001b[0m\u001b[0;34m\u001b[0m\u001b[0m\n\u001b[1;32m     68\u001b[0m                     raise ValueError(\"unrecognized %s_matrix constructor usage\" %\n",
      "\u001b[0;31mValueError\u001b[0m: setting an array element with a sequence."
     ]
    }
   ],
   "source": [
    "from sklearn.feature_extraction import DictVectorizer\n",
    "v = DictVectorizer()\n",
    "v.fit_transform(ma_data2).toarray()\n",
    "v.get_feature_names()"
   ]
  },
  {
   "cell_type": "code",
   "execution_count": 81,
   "metadata": {},
   "outputs": [
    {
     "data": {
      "text/plain": [
       "array([[10.,  1.,  0.],\n",
       "       [15.,  0.,  1.]])"
      ]
     },
     "execution_count": 81,
     "metadata": {},
     "output_type": "execute_result"
    }
   ],
   "source": [
    "ma_data = [\n",
    "    {\"name\": \"Sample1\", \"data\": 10},\n",
    "    {\"name\": \"Sample2\", \"data\": 15}\n",
    "]\n",
    "from sklearn.feature_extraction import DictVectorizer\n",
    "v = DictVectorizer()\n",
    "v.fit_transform(ma_data).toarray()"
   ]
  },
  {
   "cell_type": "markdown",
   "metadata": {},
   "source": [
    "### TakeAway\n",
    "DictVecorizer is no good. Unfortunately."
   ]
  },
  {
   "cell_type": "markdown",
   "metadata": {},
   "source": [
    "---\n",
    "\n",
    "## Manual unrolling\n",
    "Now,I try to spit out of R only data that should have same dimensions for each sample (this is currently true only in most cases, not all.)"
   ]
  },
  {
   "cell_type": "code",
   "execution_count": 1,
   "metadata": {
    "scrolled": true
   },
   "outputs": [],
   "source": [
    "import csv\n",
    "import json\n",
    "import glob\n",
    "from itertools import chain\n",
    "import numpy as np\n",
    "import math\n",
    "\n",
    "%load_ext autoreload\n",
    "%autoreload 2"
   ]
  },
  {
   "cell_type": "code",
   "execution_count": 2,
   "metadata": {},
   "outputs": [],
   "source": [
    "def get_from_dict(d):\n",
    "    \"\"\"Flattens conntents of a dictionary to a single array\n",
    "    \"\"\"\n",
    "    def items():\n",
    "        for key, value in d.items():\n",
    "            if isinstance(value, dict):\n",
    "                yield get_from_dict(value)\n",
    "            else:\n",
    "                yield value\n",
    "    return list(chain.from_iterable(items()))"
   ]
  },
  {
   "cell_type": "code",
   "execution_count": 141,
   "metadata": {},
   "outputs": [],
   "source": [
    "def load_sample_data(jpaths):\n",
    "    if not isinstance(jpaths, (list)): jpaths = [jpaths]\n",
    "    result = []\n",
    "    samples = []\n",
    "    for jpath in jpaths:\n",
    "        with open(jpath, 'r') as f:\n",
    "            data = json.load(f)\n",
    "        \n",
    "        flat_vals = get_from_dict(data)\n",
    "        result.append(flat_vals)\n",
    "        samples.append(list(data.keys())[0])\n",
    "    \n",
    "    # pad to common length, if ever needed\n",
    "    max_len = len(sorted(result, key=len, reverse=True)[0])\n",
    "    if not len(set([len(x) for x in result])) == 1: \n",
    "        import pdb; pdb.set_trace() # inspect\n",
    "        raise Exception\n",
    "    result = np.array([ri+[None]*(max_len-len(ri)) for ri in result])\n",
    "    return(samples, result)"
   ]
  },
  {
   "cell_type": "code",
   "execution_count": 59,
   "metadata": {
    "collapsed": true
   },
   "outputs": [
    {
     "data": {
      "text/plain": [
       "[1,\n",
       " 1,\n",
       " 1,\n",
       " 1,\n",
       " 1,\n",
       " 1,\n",
       " 1,\n",
       " 1,\n",
       " 1,\n",
       " 1,\n",
       " 1,\n",
       " 1,\n",
       " 1,\n",
       " 1,\n",
       " 0,\n",
       " 1,\n",
       " 1,\n",
       " 1,\n",
       " 1,\n",
       " 1,\n",
       " 1,\n",
       " 1,\n",
       " 1,\n",
       " 1,\n",
       " 1,\n",
       " 1,\n",
       " 1,\n",
       " 1,\n",
       " 1,\n",
       " 1,\n",
       " 1,\n",
       " 0,\n",
       " 1,\n",
       " 1,\n",
       " 1,\n",
       " 1,\n",
       " 1,\n",
       " 1,\n",
       " 1,\n",
       " 1,\n",
       " 1,\n",
       " 1,\n",
       " 1,\n",
       " 1,\n",
       " 1,\n",
       " 1,\n",
       " 1,\n",
       " 1,\n",
       " 1,\n",
       " 1,\n",
       " 1,\n",
       " 1,\n",
       " 1,\n",
       " 1,\n",
       " 1,\n",
       " 1,\n",
       " 1,\n",
       " 0,\n",
       " 1,\n",
       " 1,\n",
       " 1,\n",
       " 1,\n",
       " 1,\n",
       " 1,\n",
       " 1,\n",
       " 1,\n",
       " 1,\n",
       " 1,\n",
       " 1,\n",
       " 1,\n",
       " 1,\n",
       " 1,\n",
       " 1,\n",
       " 1,\n",
       " 1,\n",
       " 1,\n",
       " 1,\n",
       " 1,\n",
       " 1,\n",
       " 0,\n",
       " 1,\n",
       " 1,\n",
       " 1,\n",
       " 1,\n",
       " 1,\n",
       " 1,\n",
       " 1,\n",
       " 1,\n",
       " 1,\n",
       " 0,\n",
       " 1,\n",
       " 1,\n",
       " 1,\n",
       " 1,\n",
       " 1,\n",
       " 1,\n",
       " 1,\n",
       " 1,\n",
       " 1,\n",
       " 1,\n",
       " 1,\n",
       " 1,\n",
       " 1,\n",
       " 1,\n",
       " 1,\n",
       " 1,\n",
       " 1,\n",
       " 1,\n",
       " 1,\n",
       " 1,\n",
       " 1,\n",
       " 1,\n",
       " 1,\n",
       " 1,\n",
       " 1]"
      ]
     },
     "execution_count": 59,
     "metadata": {},
     "output_type": "execute_result"
    }
   ],
   "source": [
    "dir_path = \"/home/mholub/tmp/affyQCN/HS-01373/ML/.data\"\n",
    "jsons = glob.glob(dir_path + \"/*.json\")\n",
    "samples, result = load_sample_data(jsons)"
   ]
  },
  {
   "cell_type": "code",
   "execution_count": 5,
   "metadata": {},
   "outputs": [],
   "source": [
    "def load_labels(fpath):\n",
    "    good = []\n",
    "    bad = []\n",
    "    with open(fpath, 'r') as rf:\n",
    "        rf = csv.reader(rf, delimiter = \"\\t\")\n",
    "        for row in rf:\n",
    "            if row[1] == \"1\":\n",
    "                good.append(row[0])\n",
    "            elif row[1] == \"0\":\n",
    "                bad.append(row[0])\n",
    "    return good, bad"
   ]
  },
  {
   "cell_type": "code",
   "execution_count": 6,
   "metadata": {},
   "outputs": [],
   "source": [
    "fpath = \"/home/mholub/tmp/affyQCN/HS-01373/ML/hs01373_labels.tsv\"\n",
    "good, bad = load_labels(fpath)"
   ]
  },
  {
   "cell_type": "code",
   "execution_count": 7,
   "metadata": {},
   "outputs": [],
   "source": [
    "y_test_ =np.random.choice(bad, math.ceil(len(bad)/5), replace=False).tolist() +\\\n",
    "        np.random.choice(good, math.ceil(len(good)/5), replace=False).tolist()\n",
    "y_test = np.asarray([1 if x in good else 0 for x in y_test_])\n",
    "\n",
    "y_train_ = list(set.difference(set(samples), set(y_test_)))\n",
    "y_train = np.asarray([1 if x in good else 0 for x in y_train_])"
   ]
  },
  {
   "cell_type": "code",
   "execution_count": 8,
   "metadata": {},
   "outputs": [],
   "source": [
    "X_train = result[[True if s in y_train_ else False for s in samples]]\n",
    "X_test = result[[True if s in y_test_ else False for s in samples]]"
   ]
  },
  {
   "cell_type": "code",
   "execution_count": 9,
   "metadata": {},
   "outputs": [],
   "source": [
    "from sklearn.preprocessing import StandardScaler\n",
    "from sklearn.utils import shuffle"
   ]
  },
  {
   "cell_type": "code",
   "execution_count": 10,
   "metadata": {},
   "outputs": [],
   "source": [
    "rnd_state = np.random.randint(1, 256**2)\n",
    "X_train, y_train = shuffle(X_train, y_train, random_state = rnd_state)\n",
    "X_test, y_test = shuffle(X_test, y_test, random_state = rnd_state)"
   ]
  },
  {
   "cell_type": "code",
   "execution_count": 11,
   "metadata": {},
   "outputs": [],
   "source": [
    "scaler = StandardScaler().fit(X_train) # use later on X_test as well\n",
    "X_train = scaler.transform(X_train)\n",
    "X_test = scaler.transform(X_test)"
   ]
  },
  {
   "cell_type": "code",
   "execution_count": 12,
   "metadata": {},
   "outputs": [],
   "source": [
    "from sklearn.svm import LinearSVC\n",
    "from sklearn.metrics import log_loss, f1_score"
   ]
  },
  {
   "cell_type": "code",
   "execution_count": 13,
   "metadata": {},
   "outputs": [
    {
     "name": "stdout",
     "output_type": "stream",
     "text": [
      "[LibLinear]"
     ]
    },
    {
     "data": {
      "text/plain": [
       "0.9545454545454546"
      ]
     },
     "execution_count": 13,
     "metadata": {},
     "output_type": "execute_result"
    }
   ],
   "source": [
    "lsvc = LinearSVC(penalty = \"l2\", loss = \"hinge\", verbose = 1,\n",
    "                class_weight = \"balanced\", C = 1, max_iter = 10000)\n",
    "lsvc.fit(X_train, y_train)\n",
    "y_hat = lsvc.predict(X_test)\n",
    "y_conf = lsvc.decision_function(X_test)\n",
    "\n",
    "was_correct = y_hat == y_test\n",
    "accuracy = f1_score(y_test, y_hat)\n",
    "accuracy\n"
   ]
  },
  {
   "cell_type": "code",
   "execution_count": 14,
   "metadata": {},
   "outputs": [
    {
     "data": {
      "text/plain": [
       "array([1, 1, 1, 1, 1, 1, 1, 1, 1, 1, 0, 1, 1, 1, 1, 1, 1, 1, 1, 1, 1, 1,\n",
       "       1])"
      ]
     },
     "execution_count": 14,
     "metadata": {},
     "output_type": "execute_result"
    }
   ],
   "source": [
    "y_test"
   ]
  },
  {
   "cell_type": "code",
   "execution_count": 15,
   "metadata": {},
   "outputs": [
    {
     "data": {
      "text/plain": [
       "[1, 1, 0, 1, 1, 1, 1, 1, 1, 1, 1, 1, 1, 1, 1, 1, 1, 1, 1, 1, 1, 1, 1]"
      ]
     },
     "execution_count": 15,
     "metadata": {},
     "output_type": "execute_result"
    }
   ],
   "source": [
    "y_hat.tolist()"
   ]
  },
  {
   "cell_type": "markdown",
   "metadata": {},
   "source": [
    "## Dimensionality reduction"
   ]
  },
  {
   "cell_type": "markdown",
   "metadata": {},
   "source": [
    "### \"Research\"\n",
    "\n",
    "http://scikit-learn.org/stable/auto_examples/plot_compare_reduction.html#sphx-glr-auto-examples-plot-compare-reduction-py\n",
    "\n",
    "http://scikit-learn.org/stable/modules/feature_selection.html\n",
    "\n",
    "\n",
    "\n",
    "- http://scikit-learn.org/stable/modules/outlier_detection.html\n",
    "- http://scikit-learn.org/stable/auto_examples/svm/plot_rbf_parameters.html\n",
    "- http://scikit-learn.org/stable/tutorial/machine_learning_map/index.html\n"
   ]
  },
  {
   "cell_type": "code",
   "execution_count": 14,
   "metadata": {},
   "outputs": [
    {
     "name": "stdout",
     "output_type": "stream",
     "text": [
      "The autoreload extension is already loaded. To reload it, use:\n",
      "  %reload_ext autoreload\n"
     ]
    }
   ],
   "source": [
    "%load_ext autoreload\n",
    "%autoreload 2\n",
    "from maqc.io import readers as io\n",
    "from maqc.models import model\n",
    "\n",
    "import matplotlib.pyplot as plt\n",
    "from sklearn.decomposition import PCA, FastICA\n",
    "from sklearn.preprocessing import StandardScaler\n",
    "from sklearn.random_projection import GaussianRandomProjection as GRP\n",
    "import seaborn as sns\n",
    "import pandas as pd"
   ]
  },
  {
   "cell_type": "code",
   "execution_count": 15,
   "metadata": {},
   "outputs": [],
   "source": [
    "def dim_reduce(X, ncomp = 4, what = \"pca\"):\n",
    "    \"\"\"Seems not to be doing harm and speeds up\"\"\"\n",
    "    X = StandardScaler().fit_transform(X)\n",
    "    \n",
    "    if what == \"pca\":\n",
    "        pca = PCA(n_components = ncomp, whiten= False)\n",
    "        Xout = pca.fit_transform(X)\n",
    "        print(\"Explained variance ratio: {}\".format(pca.explained_variance_ratio_))\n",
    "    \n",
    "    elif what == \"ica\":\n",
    "        ica = FastICA(n_components = ncomp, max_iter = 1000)\n",
    "        Xout = ica.fit_transform(X)\n",
    "    \n",
    "    elif what == \"random\":\n",
    "        grp = GRP(n_components = ncomp)\n",
    "        Xout = grp.fit_transform(X)\n",
    "        \n",
    "    return (Xout)"
   ]
  },
  {
   "cell_type": "code",
   "execution_count": 16,
   "metadata": {},
   "outputs": [
    {
     "name": "stdout",
     "output_type": "stream",
     "text": [
      "Finished reading data in 0.104 s.\n",
      "Some samples do not have known labels (set())\n",
      "Class membership: 0: 16, 1: 266\n",
      "Finished reading labels in 0.004 s.\n"
     ]
    }
   ],
   "source": [
    "# dir_path = \"/home/mholub/tmp/affyQCN/HS-01373/ML/.data\"\n",
    "# flabels = \"/home/mholub/tmp/mlQC/labels/training_labels.tsv\"\n",
    "dir_path = \"/home/mholub/tmp/mlQC/data/data\"\n",
    "# flabels = \"/home/mholub/tmp/mlQC/labels/paritaly_bad_exps_samples_final.tsv\"\n",
    "flabels = \"/home/mholub/tmp/mlQC/labels/hs01446_label_subset.tsv\"\n",
    "samples, X = io.DataReader(load_dir = dir_path).load_sample_data(exps = \"HS-01446\")\n",
    "y, keepid = io.LabelReader(samples, flabels = flabels).read_labels()\n",
    "X = X[keepid, :] # could also assume that the rest is defunct"
   ]
  },
  {
   "cell_type": "code",
   "execution_count": 17,
   "metadata": {},
   "outputs": [],
   "source": [
    "# def setup_rcparams():\n",
    "#     # Just utility function to make consistent plots\n",
    "\n",
    "#     plt.close('all')\n",
    "#     plt.rcParams['font.size'] = 10\n",
    "#     plt.rcParams['figure.dpi'] = 100\n",
    "#     plt.rcParams['figure.figsize'] = [8,6]\n",
    "#     plt.rcParams['savefig.dpi'] = plt.rcParams['figure.dpi']\n",
    "#     plt.rcParams['text.usetex'] = False\n",
    "#     plt.rcParams['font.monospace'] = 'monospace'\n",
    "#     plt.rcParams['legend.fancybox'] = True\n",
    "#     plt.rcParams['legend.shadow'] = True"
   ]
  },
  {
   "cell_type": "code",
   "execution_count": 20,
   "metadata": {},
   "outputs": [
    {
     "name": "stdout",
     "output_type": "stream",
     "text": [
      "Explained variance ratio: [0.28209024 0.19349804 0.12593177 0.05969941]\n"
     ]
    },
    {
     "data": {
      "text/plain": [
       "<seaborn.axisgrid.PairGrid at 0x7f0375bf2a58>"
      ]
     },
     "execution_count": 20,
     "metadata": {},
     "output_type": "execute_result"
    },
    {
     "data": {
      "image/png": "[encoded data removed]",
      "text/plain": [
       "<Figure size 762.375x720 with 20 Axes>"
      ]
     },
     "metadata": {},
     "output_type": "display_data"
    }
   ],
   "source": [
    "X_vis = pd.DataFrame(dim_reduce(X, what = \"pca\"),\n",
    "                           columns = [\"PC_\" + str(x) for x in range(1,5)])\n",
    "X_vis[\"labels\"] = y.values\n",
    "sns.pairplot(X_vis, vars = [\"PC_1\", \"PC_2\", \"PC_3\", \"PC_4\"] ,hue = \"labels\")"
   ]
  },
  {
   "cell_type": "code",
   "execution_count": 52,
   "metadata": {},
   "outputs": [
    {
     "data": {
      "text/plain": [
       "<matplotlib.legend.Legend at 0x7f7f39c874a8>"
      ]
     },
     "execution_count": 52,
     "metadata": {},
     "output_type": "execute_result"
    },
    {
     "data": {
      "image/png": "[encoded data removed]",
      "text/plain": [
       "<Figure size 864x576 with 4 Axes>"
      ]
     },
     "metadata": {},
     "output_type": "display_data"
    }
   ],
   "source": [
    "fig, (ax1, ax2) = plt.subplots(2, 2, figsize = (12, 8))\n",
    "ax1[0].scatter(X_vis.iloc[y.values == 1, 0],\n",
    "               X_vis.iloc[y.values == 1, 1], c = \"g\", label = \"Good\")\n",
    "ax1[0].scatter(X_vis.iloc[y.values == 0, 0],\n",
    "               X_vis.iloc[y.values == 0, 1], c = \"r\", label = \"Bad\")\n",
    "\n",
    "# ax2[0].scatter(X_test_vis.iloc[y_test == 1, 0],\n",
    "#                X_test_vis.iloc[y_test == 1, 1], c = \"g\", label = \"Good\")\n",
    "# ax2[0].scatter(X_test_vis.iloc[y_test == 0, 0],\n",
    "#                X_test_vis.iloc[y_test == 0, 1], c = \"r\", label = \"Bad\")\n",
    "\n",
    "# ax2[1].scatter(X_test_vis.iloc[was_correct, 0],\n",
    "#                X_test_vis.iloc[was_correct, 1], c = \"g\", label = \"Good\")\n",
    "# ax2[1].scatter(X_test_vis.iloc[np.invert(was_correct), 0],\n",
    "#                X_test_vis.iloc[np.invert(was_correct), 1], c= \"r\", label = \"Bad\")\n",
    "\n",
    "plt.legend([\"Good\", \"Bad\"])"
   ]
  },
  {
   "cell_type": "code",
   "execution_count": 30,
   "metadata": {},
   "outputs": [
    {
     "data": {
      "text/plain": [
       "array([[ 5.0875e+00,  6.7142e+00,  7.8329e+00, ..., -5.3600e-02,\n",
       "        -1.6400e-02, -4.9300e-02],\n",
       "       [ 5.1699e+00,  6.8948e+00,  8.0821e+00, ..., -2.7000e-02,\n",
       "         9.7700e-02, -1.5700e-02],\n",
       "       [ 5.1699e+00,  6.7549e+00,  7.8392e+00, ..., -1.1100e-02,\n",
       "         3.8400e-02,  7.1000e-03],\n",
       "       [ 5.0875e+00,  6.1085e+00,  6.7549e+00, ..., -2.3300e-02,\n",
       "         2.0600e-02, -1.4900e-02],\n",
       "       [ 5.1699e+00,  6.2479e+00,  7.0334e+00, ...,  1.0000e-03,\n",
       "         5.1000e-03,  4.9000e-03]])"
      ]
     },
     "execution_count": 30,
     "metadata": {},
     "output_type": "execute_result"
    }
   ],
   "source": [
    "X[y.values==0,:]"
   ]
  },
  {
   "cell_type": "code",
   "execution_count": 32,
   "metadata": {},
   "outputs": [
    {
     "data": {
      "text/plain": [
       "array([[ 5.0444e+00,  6.3399e+00,  7.2192e+00, ..., -9.1000e-02,\n",
       "         1.4700e-02, -8.1700e-02],\n",
       "       [ 5.1699e+00,  6.6147e+00,  7.6366e+00, ...,  7.4000e-03,\n",
       "        -3.3900e-02,  4.4000e-03],\n",
       "       [ 5.2479e+00,  6.5392e+00,  7.4676e+00, ...,  2.3100e-02,\n",
       "         1.0540e-01, -2.4000e-03],\n",
       "       [ 5.2095e+00,  6.4263e+00,  7.3309e+00, ..., -2.4100e-02,\n",
       "        -1.6200e-01, -1.6500e-02],\n",
       "       [ 5.1293e+00,  6.4094e+00,  7.2192e+00, ..., -6.0000e-02,\n",
       "        -2.1900e-02, -3.4900e-02],\n",
       "       [ 5.1293e+00,  6.1293e+00,  6.7814e+00, ...,  3.8600e-02,\n",
       "        -5.2900e-02, -5.0000e-04]])"
      ]
     },
     "execution_count": 32,
     "metadata": {},
     "output_type": "execute_result"
    }
   ],
   "source": [
    "X[y.values == 1,:][5:11,:]"
   ]
  }
 ],
 "metadata": {
  "kernelspec": {
   "display_name": "Python 3",
   "language": "python",
   "name": "python3"
  },
  "language_info": {
   "codemirror_mode": {
    "name": "ipython",
    "version": 3
   },
   "file_extension": ".py",
   "mimetype": "text/x-python",
   "name": "python",
   "nbconvert_exporter": "python",
   "pygments_lexer": "ipython3",
   "version": "3.6.5"
  },
  "toc": {
   "base_numbering": 1,
   "nav_menu": {},
   "number_sections": true,
   "sideBar": true,
   "skip_h1_title": true,
   "title_cell": "Table of Contents",
   "title_sidebar": "Contents",
   "toc_cell": true,
   "toc_position": {
    "height": "calc(100% - 180px)",
    "left": "10px",
    "top": "150px",
    "width": "165px"
   },
   "toc_section_display": true,
   "toc_window_display": true
  }
 },
 "nbformat": 4,
 "nbformat_minor": 2
}
