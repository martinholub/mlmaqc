{
 "cells": [
  {
   "cell_type": "markdown",
   "metadata": {
    "toc": true
   },
   "source": [
    "<h1>Table of Contents<span class=\"tocSkip\"></span></h1>\n",
    "<div class=\"toc\"><ul class=\"toc-item\"></ul></div>"
   ]
  },
  {
   "cell_type": "code",
   "execution_count": 1,
   "metadata": {},
   "outputs": [],
   "source": [
    "%load_ext autoreload\n",
    "%autoreload 2\n",
    "import os\n",
    "import sys\n",
    "import numpy as np\n",
    "nb_dir = os.path.split(os.getcwd())[0]\n",
    "if nb_dir not in sys.path:\n",
    "    sys.path.append(nb_dir)\n",
    "from maqc.models.trainer import ModelTrainer"
   ]
  },
  {
   "cell_type": "code",
   "execution_count": 3,
   "metadata": {},
   "outputs": [
    {
     "name": "stdout",
     "output_type": "stream",
     "text": [
      "Loaded model from /home/mholub/tmp/mlQC/saved/saved/RandomizedSearchCV_10261306.pkl.\n"
     ]
    },
    {
     "data": {
      "text/plain": [
       "array([[0.00607636, 0.99392364],\n",
       "       [0.06291931, 0.93708069],\n",
       "       [0.06206325, 0.93793675],\n",
       "       [0.00607636, 0.99392364],\n",
       "       [0.00798176, 0.99201824],\n",
       "       [0.55266486, 0.44733514],\n",
       "       [0.00651689, 0.99348311],\n",
       "       [0.06338774, 0.93661226],\n",
       "       [0.04352572, 0.95647428],\n",
       "       [0.0109522 , 0.9890478 ],\n",
       "       [0.06735463, 0.93264537],\n",
       "       [0.06206325, 0.93793675],\n",
       "       [0.00693243, 0.99306757],\n",
       "       [0.00607636, 0.99392364],\n",
       "       [0.00693243, 0.99306757],\n",
       "       [0.00566082, 0.99433918],\n",
       "       [0.00740086, 0.99259914],\n",
       "       [0.04091324, 0.95908676],\n",
       "       [0.12358954, 0.87641046],\n",
       "       [0.00693243, 0.99306757],\n",
       "       [0.04120172, 0.95879828],\n",
       "       [0.55266486, 0.44733514],\n",
       "       [0.00698532, 0.99301468],\n",
       "       [0.6458491 , 0.3541509 ],\n",
       "       [0.06396864, 0.93603136],\n",
       "       [0.00636485, 0.99363515],\n",
       "       [0.20952336, 0.79047664],\n",
       "       [0.00607636, 0.99392364],\n",
       "       [0.00798176, 0.99201824],\n",
       "       [0.00868884, 0.99131116],\n",
       "       [0.00566082, 0.99433918],\n",
       "       [0.06206325, 0.93793675],\n",
       "       [0.61193721, 0.38806279],\n",
       "       [0.17651756, 0.82348244],\n",
       "       [0.0097172 , 0.9902828 ],\n",
       "       [0.00756622, 0.99243378],\n",
       "       [0.06291931, 0.93708069],\n",
       "       [0.0082733 , 0.9917267 ],\n",
       "       [0.00740086, 0.99259914],\n",
       "       [0.04620462, 0.95379538],\n",
       "       [0.00607636, 0.99392364],\n",
       "       [0.06396864, 0.93603136],\n",
       "       [0.06291931, 0.93708069],\n",
       "       [0.01013275, 0.98986725],\n",
       "       [0.06206325, 0.93793675],\n",
       "       [0.14966042, 0.85033958],\n",
       "       [0.06396864, 0.93603136],\n",
       "       [0.06206325, 0.93793675],\n",
       "       [0.5928915 , 0.4071085 ],\n",
       "       [0.00566082, 0.99433918]])"
      ]
     },
     "execution_count": 3,
     "metadata": {},
     "output_type": "execute_result"
    }
   ],
   "source": [
    "X = np.random.normal(size = (50, 130))\n",
    "fpath = \"~/tmp/mlQC/saved/saved/RandomizedSearchCV_10261306.pkl\"\n",
    "mt = ModelTrainer(rnd = 56)\n",
    "mt.load_model(fpath)\n",
    "mt.predict(X, proba = True)"
   ]
  },
  {
   "cell_type": "code",
   "execution_count": 4,
   "metadata": {},
   "outputs": [
    {
     "data": {
      "text/plain": [
       "True"
      ]
     },
     "execution_count": 4,
     "metadata": {},
     "output_type": "execute_result"
    }
   ],
   "source": [
    "\"affymetrix\".lower() in (\"affymetrix\", )"
   ]
  }
 ],
 "metadata": {
  "kernelspec": {
   "display_name": "Python 3",
   "language": "python",
   "name": "python3"
  },
  "language_info": {
   "codemirror_mode": {
    "name": "ipython",
    "version": 3
   },
   "file_extension": ".py",
   "mimetype": "text/x-python",
   "name": "python",
   "nbconvert_exporter": "python",
   "pygments_lexer": "ipython3",
   "version": "3.6.5"
  },
  "toc": {
   "base_numbering": 1,
   "nav_menu": {},
   "number_sections": true,
   "sideBar": true,
   "skip_h1_title": true,
   "title_cell": "Table of Contents",
   "title_sidebar": "Contents",
   "toc_cell": true,
   "toc_position": {},
   "toc_section_display": true,
   "toc_window_display": true
  }
 },
 "nbformat": 4,
 "nbformat_minor": 2
}
