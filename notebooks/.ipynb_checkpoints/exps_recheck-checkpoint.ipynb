{
 "cells": [
  {
   "cell_type": "markdown",
   "metadata": {
    "toc": true
   },
   "source": [
    "<h1>Table of Contents<span class=\"tocSkip\"></span></h1>\n",
    "<div class=\"toc\"><ul class=\"toc-item\"></ul></div>"
   ]
  },
  {
   "cell_type": "markdown",
   "metadata": {},
   "source": [
    "This code was used to generate experiment names for manual reannotation of select samples."
   ]
  },
  {
   "cell_type": "code",
   "execution_count": 113,
   "metadata": {},
   "outputs": [],
   "source": [
    "# requires y: pandas.Series as generated  in loading data\n",
    "\n",
    "import re\n",
    "import numpy as np\n",
    "import pandas as pd\n",
    "import csv\n",
    "\n",
    "my_index = list(y.sort_index().index)\n",
    "match_getter = lambda x: re.search(\"(HS-[0-9]{5})_(.*)\", x).group(1)\n",
    "uniqs, counts = np.unique(list(map(match_getter, my_index)), return_counts = True)\n",
    "exp_cnt = {k:v for k,v in zip(uniqs, counts)}\n",
    "exp_cnt = (sorted(exp_cnt.items(), key = lambda kv: kv[1], reverse=True))\n",
    "\n",
    "# drop experiments with many or few samples\n",
    "subset = np.asarray(exp_cnt[20:-20])\n",
    "# random sample of `size`\n",
    "idx = sorted(np.random.choice(range(0, len(subset)), size=25, replace = False))\n",
    "# idx = np.random.randint(0, len(subset), size=25, repl)\n",
    "# string matcher\n",
    "exps_ = tuple([x[0] for x in subset[idx]])\n",
    "# give checker\n",
    "exps_ = []\n",
    "with open(\"/home/mholub/tmp/mlQC/labels/to_verify/exps.txt\", \"r\") as rf:\n",
    "    for row in rf:\n",
    "        exps_.append(row.strip())\n",
    "exps_ = tuple(exps_)"
   ]
  },
  {
   "cell_type": "code",
   "execution_count": 116,
   "metadata": {},
   "outputs": [],
   "source": [
    "y_out = y_all[[x.startswith(exps_) for x in y_all.index]].sort_index()\n",
    "\n",
    "# y_out.to_csv(\"/home/mholub/tmp/mlQC/labels/to_verify/labels.csv\",\n",
    "#             sep = \"\\t\")\n",
    "with open(\"/home/mholub/tmp/mlQC/labels/to_verify/labels.csv\", \"w\") as cf:\n",
    "    for idex, val in zip(y_out.index, y_out.values):\n",
    "        exp_ = idex.split(\"_\")[0]\n",
    "        samp_ = \"\".join(idex.split(\"_\")[1:])\n",
    "        cf.write(\"\\t\".join([exp_, samp_, str(val)]) + \"\\n\")"
   ]
  }
 ],
 "metadata": {
  "kernelspec": {
   "display_name": "Python 3",
   "language": "python",
   "name": "python3"
  },
  "language_info": {
   "codemirror_mode": {
    "name": "ipython",
    "version": 3
   },
   "file_extension": ".py",
   "mimetype": "text/x-python",
   "name": "python",
   "nbconvert_exporter": "python",
   "pygments_lexer": "ipython3",
   "version": "3.6.5"
  },
  "toc": {
   "base_numbering": 1,
   "nav_menu": {},
   "number_sections": true,
   "sideBar": true,
   "skip_h1_title": true,
   "title_cell": "Table of Contents",
   "title_sidebar": "Contents",
   "toc_cell": true,
   "toc_position": {},
   "toc_section_display": true,
   "toc_window_display": true
  }
 },
 "nbformat": 4,
 "nbformat_minor": 2
}
